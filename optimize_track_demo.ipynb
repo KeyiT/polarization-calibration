{
 "cells": [
  {
   "cell_type": "code",
   "execution_count": 1,
   "metadata": {},
   "outputs": [],
   "source": [
    "import calibrators\n",
    "import simulators\n",
    "import logging\n",
    "import numpy as np\n",
    "import time\n",
    "import pandas as pd\n",
    "import matplotlib.pyplot as plt"
   ]
  },
  {
   "cell_type": "code",
   "execution_count": 2,
   "metadata": {},
   "outputs": [],
   "source": [
    "logging.basicConfig(filename='data/app.log', filemode='w', format='%(name)s - %(levelname)s - %(message)s', level=logging.DEBUG)"
   ]
  },
  {
   "cell_type": "code",
   "execution_count": 3,
   "metadata": {},
   "outputs": [],
   "source": [
    "def print_model_status(calibrator, model):\n",
    "    print('model parameters: ' + str(model.params))\n",
    "    print('calibrator model parameters: ' + str(calibrator.model_params))\n",
    "    print('model parameters difference: ' + str((np.asarray(model.params) - np.asarray(calibrator.model_params)).tolist()))\n",
    "    print('\\nsamping point: ' + str(calibrator.sample_queue[-1].inputs))\n",
    "    print('sampling value: ' + str(calibrator.sample_queue[-1].output))\n",
    "    print('current observe: ' + str(model.observe(calibrator.sample_queue[-1].inputs)))"
   ]
  },
  {
   "cell_type": "markdown",
   "metadata": {},
   "source": [
    "# Initialize Model and Calibrator"
   ]
  },
  {
   "cell_type": "markdown",
   "metadata": {},
   "source": [
    "### Initial Model Parameters"
   ]
  },
  {
   "cell_type": "code",
   "execution_count": 4,
   "metadata": {},
   "outputs": [],
   "source": [
    "model_params = [0.7991353, 2.2477762]"
   ]
  },
  {
   "cell_type": "markdown",
   "metadata": {},
   "source": [
    "### Initialize"
   ]
  },
  {
   "cell_type": "code",
   "execution_count": 5,
   "metadata": {
    "scrolled": true
   },
   "outputs": [
    {
     "name": "stdout",
     "output_type": "stream",
     "text": [
      "initializing...\n",
      "initialization done!\n",
      "`xtol` termination condition is satisfied.\n",
      "Function evaluations 18, initial cost 5.6624e-01, final cost 3.1834e-18, first-order optimality 3.81e-09.\n"
     ]
    },
    {
     "name": "stderr",
     "output_type": "stream",
     "text": [
      "/anaconda3/envs/polarization/lib/python2.7/site-packages/scipy/optimize/_lsq/least_squares.py:114: UserWarning: `xtol` is too low, setting to machine epsilon 2.22044604925e-16.\n",
      "  warn(message.format(\"`xtol`\", EPS))\n",
      "simulators.py:140: OptimizeWarning: Unknown solver options: gtol\n",
      "  options={'gtol': 1e-6, 'disp': verbose > 0, 'xtol': 1e-15}\n"
     ]
    }
   ],
   "source": [
    "model = simulators.SimulatorModel(list(model_params))\n",
    "calib = calibrators.SlidingWindowCalibrator(model, num_resamples=1, num_samples=12)\n",
    "calib.initialize()"
   ]
  },
  {
   "cell_type": "code",
   "execution_count": 6,
   "metadata": {},
   "outputs": [
    {
     "name": "stdout",
     "output_type": "stream",
     "text": [
      "model parameters: [0.7991353, 2.2477762]\n",
      "calibrator model parameters: [ 0.7991353  2.2477762]\n",
      "model parameters difference: [6.854667944367066e-10, -2.258059073056984e-09]\n",
      "\n",
      "samping point: [2.4646128029146057, 0.92945520328508757]\n",
      "sampling value: 1.38777878078e-16\n",
      "current observe: 1.38777878078e-16\n"
     ]
    }
   ],
   "source": [
    "print_model_status(calib, model)"
   ]
  },
  {
   "cell_type": "markdown",
   "metadata": {},
   "source": [
    "# Tracking"
   ]
  },
  {
   "cell_type": "code",
   "execution_count": 7,
   "metadata": {},
   "outputs": [],
   "source": [
    "model.params = list(model_params)\n",
    "calib.model_params = list(model_params)"
   ]
  },
  {
   "cell_type": "markdown",
   "metadata": {},
   "source": [
    "### Add a Small Perturbation"
   ]
  },
  {
   "cell_type": "code",
   "execution_count": 8,
   "metadata": {},
   "outputs": [],
   "source": [
    "params_change = [1E-3, 5E-2]"
   ]
  },
  {
   "cell_type": "code",
   "execution_count": 9,
   "metadata": {},
   "outputs": [],
   "source": [
    "for i in range(len(model.params)):\n",
    "    model.params[i] = model_params[i] + params_change[i]"
   ]
  },
  {
   "cell_type": "code",
   "execution_count": 10,
   "metadata": {
    "scrolled": true
   },
   "outputs": [
    {
     "name": "stdout",
     "output_type": "stream",
     "text": [
      "model parameters: [0.8001353, 2.2977762]\n",
      "calibrator model parameters: [0.7991353, 2.2477762]\n",
      "model parameters difference: [0.0010000000000000009, 0.04999999999999982]\n",
      "\n",
      "samping point: [2.4646128029146057, 0.92945520328508757]\n",
      "sampling value: 1.38777878078e-16\n",
      "current observe: 0.000402022655257\n"
     ]
    }
   ],
   "source": [
    "print_model_status(calib, model)"
   ]
  },
  {
   "cell_type": "markdown",
   "metadata": {},
   "source": [
    "### Track"
   ]
  },
  {
   "cell_type": "code",
   "execution_count": 11,
   "metadata": {},
   "outputs": [
    {
     "name": "stderr",
     "output_type": "stream",
     "text": [
      "/anaconda3/envs/polarization/lib/python2.7/site-packages/scipy/optimize/minpack.py:161: RuntimeWarning: xtol=0.000000 is too small, no further improvement in the approximate\n",
      "  solution is possible.\n",
      "  warnings.warn(msg, RuntimeWarning)\n"
     ]
    }
   ],
   "source": [
    "calib.track(num_observes=5)"
   ]
  },
  {
   "cell_type": "code",
   "execution_count": 12,
   "metadata": {},
   "outputs": [
    {
     "name": "stdout",
     "output_type": "stream",
     "text": [
      "model parameters: [0.8001353, 2.2977762]\n",
      "calibrator model parameters: [0.8001353046841673, 2.2977762179848638]\n",
      "model parameters difference: [-4.684167276280959e-09, -1.798486382043052e-08]\n",
      "\n",
      "samping point: [2.4146127531251347, 0.92695686817166312]\n",
      "sampling value: 8.32667268469e-16\n",
      "current observe: 8.32667268469e-16\n"
     ]
    }
   ],
   "source": [
    "print_model_status(calib, model)"
   ]
  },
  {
   "cell_type": "markdown",
   "metadata": {},
   "source": [
    "# Simulation"
   ]
  },
  {
   "cell_type": "code",
   "execution_count": 44,
   "metadata": {},
   "outputs": [],
   "source": [
    "def plot_tracking(model_observes, model_observes_no_tracking, model_params_real, model_params_guess):\n",
    "    plt.figure()\n",
    "    pd.DataFrame(\n",
    "        {\"tracking\": model_observes, \"no tracking\": model_observes_no_tracking}\n",
    "    ).plot(logy=True, legend=True, title='system power')\n",
    "    plt.show()\n",
    "    \n",
    "    tracking_dif = np.abs(np.asarray(model_params_real) - np.asarray(model_params_guess)).mean(axis=1)\n",
    "    plt.figure()\n",
    "    pd.Series(tracking_dif).plot(logy=True, title='model params tracking error')\n",
    "    plt.show()"
   ]
  },
  {
   "cell_type": "code",
   "execution_count": 45,
   "metadata": {},
   "outputs": [],
   "source": [
    "def model_params_drift(model_params, drift_scale):\n",
    "    drift = ((np.random.rand(len(model_params)) - 0.5) * 2.0).tolist()\n",
    "    \n",
    "    for i in range(len(model_params)):\n",
    "        model_params[i] += drift[i] * drift_scale\n",
    "        \n",
    "    model_params[0] = min(max(model_params[0], 0), 1.0)\n",
    "    model_params[1] = min(max(model_params[1], 0), np.pi)"
   ]
  },
  {
   "cell_type": "markdown",
   "metadata": {},
   "source": [
    "### Define Model Parameters"
   ]
  },
  {
   "cell_type": "code",
   "execution_count": 46,
   "metadata": {},
   "outputs": [],
   "source": [
    "model_params = [0.7991353, 2.2477762]\n",
    "drift_scale = 0.04\n",
    "noise_std = 1E-5\n",
    "\n",
    "num_records = 100\n",
    "model_params_records = list()\n",
    "model_params_guess = list()\n",
    "model_observes = list()\n",
    "model_observes_t0 = list()"
   ]
  },
  {
   "cell_type": "code",
   "execution_count": 47,
   "metadata": {},
   "outputs": [],
   "source": [
    "def generator_noise(std):\n",
    "    while True:\n",
    "        yield np.random.normal(0, std)"
   ]
  },
  {
   "cell_type": "markdown",
   "metadata": {},
   "source": [
    "### Simulation"
   ]
  },
  {
   "cell_type": "code",
   "execution_count": 48,
   "metadata": {},
   "outputs": [],
   "source": [
    "class NoiseSimulatorModel(simulators.SimulatorModel):\n",
    "    def __init__(self, params, noise_generator):\n",
    "        super(NoiseSimulatorModel, self).__init__(params)\n",
    "        self.noise_generator = noise_generator\n",
    "        \n",
    "    def observe(self, inputs):\n",
    "        noise_val = self.noise_generator.next()\n",
    "        logging.debug(\"noise: \" + str(noise_val))\n",
    "        val = super(NoiseSimulatorModel, self).observe(inputs) + noise_val\n",
    "        return max(0.0, min(val, 1.0))"
   ]
  },
  {
   "cell_type": "code",
   "execution_count": 49,
   "metadata": {},
   "outputs": [
    {
     "name": "stdout",
     "output_type": "stream",
     "text": [
      "initializing...\n",
      "initialization done!\n",
      "`xtol` termination condition is satisfied.\n",
      "Function evaluations 12, initial cost 5.6624e-01, final cost 2.6607e-10, first-order optimality 1.28e-13.\n"
     ]
    }
   ],
   "source": [
    "model = NoiseSimulatorModel(list(model_params), generator_noise(noise_std))\n",
    "\n",
    "calib = calibrators.SlidingWindowCalibrator(model, num_resamples=1, num_samples=12)\n",
    "calib.initialize()\n",
    "model_input_t0 = calib.sample_queue[-1].inputs"
   ]
  },
  {
   "cell_type": "code",
   "execution_count": 50,
   "metadata": {},
   "outputs": [],
   "source": [
    "for t in range(num_records):\n",
    "    \n",
    "    # recording model parameters\n",
    "    model_params_records.append(list(model_params))\n",
    "    model_params_guess.append(list(calib.model_params))\n",
    "    model_observes.append(model.observe(calib.sample_queue[-1].inputs))\n",
    "    model_observes_t0.append(model.observe(model_input_t0))\n",
    "    \n",
    "    # model parameter drift\n",
    "    model_params_drift(model_params, drift_scale)\n",
    "    model.params = model_params\n",
    "    \n",
    "    # tracking\n",
    "    calib.track(epsilon=0.001, num_observes=15, tol=1E-4)"
   ]
  },
  {
   "cell_type": "code",
   "execution_count": 51,
   "metadata": {},
   "outputs": [
    {
     "data": {
      "text/plain": [
       "<Figure size 432x288 with 0 Axes>"
      ]
     },
     "metadata": {},
     "output_type": "display_data"
    },
    {
     "data": {
      "image/png": "[encoded data removed]",
      "text/plain": [
       "<Figure size 432x288 with 1 Axes>"
      ]
     },
     "metadata": {
      "needs_background": "light"
     },
     "output_type": "display_data"
    },
    {
     "data": {
      "image/png": "[encoded data removed]",
      "text/plain": [
       "<Figure size 432x288 with 1 Axes>"
      ]
     },
     "metadata": {
      "needs_background": "light"
     },
     "output_type": "display_data"
    }
   ],
   "source": [
    "plot_tracking(model_observes[1:], model_observes_t0[1:], model_params_records[1:], model_params_guess[1:])"
   ]
  },
  {
   "cell_type": "code",
   "execution_count": null,
   "metadata": {},
   "outputs": [],
   "source": []
  },
  {
   "cell_type": "code",
   "execution_count": null,
   "metadata": {},
   "outputs": [],
   "source": []
  }
 ],
 "metadata": {
  "kernelspec": {
   "display_name": "Python 2",
   "language": "python",
   "name": "python2"
  },
  "language_info": {
   "codemirror_mode": {
    "name": "ipython",
    "version": 2
   },
   "file_extension": ".py",
   "mimetype": "text/x-python",
   "name": "python",
   "nbconvert_exporter": "python",
   "pygments_lexer": "ipython2",
   "version": "2.7.16"
  }
 },
 "nbformat": 4,
 "nbformat_minor": 1
}
