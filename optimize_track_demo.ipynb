{
 "cells": [
  {
   "cell_type": "code",
   "execution_count": 1,
   "metadata": {},
   "outputs": [],
   "source": [
    "import calibrators\n",
    "import simulators\n",
    "import logging\n",
    "import numpy as np\n",
    "import time\n",
    "import pandas as pd\n",
    "import matplotlib.pyplot as plt"
   ]
  },
  {
   "cell_type": "code",
   "execution_count": 2,
   "metadata": {},
   "outputs": [],
   "source": [
    "logging.basicConfig(filename='data/app.log', filemode='w', format='%(name)s - %(levelname)s - %(message)s', level=logging.DEBUG)"
   ]
  },
  {
   "cell_type": "code",
   "execution_count": 3,
   "metadata": {},
   "outputs": [],
   "source": [
    "def print_model_status(calibrator, model):\n",
    "    print('model parameters: ' + str(model.params))\n",
    "    print('calibrator model parameters: ' + str(calibrator.model_params))\n",
    "    print('model parameters difference: ' + str((np.asarray(model.params) - np.asarray(calibrator.model_params)).tolist()))\n",
    "    print('\\nsamping point: ' + str(calibrator.sample_queue[-1].inputs))\n",
    "    print('sampling value: ' + str(calibrator.sample_queue[-1].output))\n",
    "    print('current observe: ' + str(model.observe(calibrator.sample_queue[-1].inputs)))"
   ]
  },
  {
   "cell_type": "markdown",
   "metadata": {},
   "source": [
    "# Initialize Model and Calibrator"
   ]
  },
  {
   "cell_type": "markdown",
   "metadata": {},
   "source": [
    "### Initial Model Parameters"
   ]
  },
  {
   "cell_type": "code",
   "execution_count": 4,
   "metadata": {},
   "outputs": [],
   "source": [
    "model_params = [0.7991353, 2.2477762]"
   ]
  },
  {
   "cell_type": "markdown",
   "metadata": {},
   "source": [
    "### Initialize"
   ]
  },
  {
   "cell_type": "code",
   "execution_count": 5,
   "metadata": {
    "scrolled": true
   },
   "outputs": [
    {
     "name": "stdout",
     "output_type": "stream",
     "text": [
      "initializing...\n",
      "initialization done!\n",
      "`xtol` termination condition is satisfied.\n",
      "Function evaluations 18, initial cost 5.6624e-01, final cost 3.1834e-18, first-order optimality 3.81e-09.\n"
     ]
    },
    {
     "name": "stderr",
     "output_type": "stream",
     "text": [
      "/Users/keyit/miniconda3/envs/polarization/lib/python2.7/site-packages/scipy/optimize/_lsq/least_squares.py:114: UserWarning: `xtol` is too low, setting to machine epsilon 2.22044604925e-16.\n",
      "  warn(message.format(\"`xtol`\", EPS))\n",
      "simulators.py:140: OptimizeWarning: Unknown solver options: gtol\n",
      "  options={'gtol': 1e-6, 'disp': verbose > 0, 'xtol': 1e-15}\n"
     ]
    }
   ],
   "source": [
    "model = simulators.SimulatorModel(list(model_params))\n",
    "calib = calibrators.PointLSCalibrator(model, num_resamples=1, num_samples=12)\n",
    "calib.initialize()"
   ]
  },
  {
   "cell_type": "code",
   "execution_count": 6,
   "metadata": {},
   "outputs": [
    {
     "name": "stdout",
     "output_type": "stream",
     "text": [
      "model parameters: [0.7991353, 2.2477762]\n",
      "calibrator model parameters: [ 0.7991353  2.2477762]\n",
      "model parameters difference: [6.854667944367066e-10, -2.258059073056984e-09]\n",
      "\n",
      "samping point: [2.4646128029146057, 0.92945520328508757]\n",
      "sampling value: 1.38777878078e-16\n",
      "current observe: 1.38777878078e-16\n"
     ]
    }
   ],
   "source": [
    "print_model_status(calib, model)"
   ]
  },
  {
   "cell_type": "markdown",
   "metadata": {},
   "source": [
    "# Tracking"
   ]
  },
  {
   "cell_type": "code",
   "execution_count": 7,
   "metadata": {},
   "outputs": [],
   "source": [
    "model.params = list(model_params)\n",
    "calib.model_params = list(model_params)"
   ]
  },
  {
   "cell_type": "markdown",
   "metadata": {},
   "source": [
    "### Add a Small Perturbation"
   ]
  },
  {
   "cell_type": "code",
   "execution_count": 8,
   "metadata": {},
   "outputs": [],
   "source": [
    "params_change = [1E-3, 5E-2]"
   ]
  },
  {
   "cell_type": "code",
   "execution_count": 9,
   "metadata": {},
   "outputs": [],
   "source": [
    "for i in range(len(model.params)):\n",
    "    model.params[i] = model_params[i] + params_change[i]"
   ]
  },
  {
   "cell_type": "code",
   "execution_count": 10,
   "metadata": {
    "scrolled": true
   },
   "outputs": [
    {
     "name": "stdout",
     "output_type": "stream",
     "text": [
      "model parameters: [0.8001353, 2.2977762]\n",
      "calibrator model parameters: [0.7991353, 2.2477762]\n",
      "model parameters difference: [0.0010000000000000009, 0.04999999999999982]\n",
      "\n",
      "samping point: [2.4646128029146057, 0.92945520328508757]\n",
      "sampling value: 1.38777878078e-16\n",
      "current observe: 0.000402022655257\n"
     ]
    }
   ],
   "source": [
    "print_model_status(calib, model)"
   ]
  },
  {
   "cell_type": "markdown",
   "metadata": {},
   "source": [
    "### Track"
   ]
  },
  {
   "cell_type": "code",
   "execution_count": 11,
   "metadata": {},
   "outputs": [
    {
     "name": "stderr",
     "output_type": "stream",
     "text": [
      "/Users/keyit/miniconda3/envs/polarization/lib/python2.7/site-packages/numpy/__init__.py:1: RuntimeWarning: invalid value encountered in sqrt\n",
      "  \"\"\"\n",
      "/Users/keyit/miniconda3/envs/polarization/lib/python2.7/site-packages/scipy/optimize/minpack.py:161: RuntimeWarning: The iteration is not making good progress, as measured by the \n",
      "  improvement from the last ten iterations.\n",
      "  warnings.warn(msg, RuntimeWarning)\n"
     ]
    }
   ],
   "source": [
    "calib.track(num_observes=5)"
   ]
  },
  {
   "cell_type": "code",
   "execution_count": 12,
   "metadata": {},
   "outputs": [
    {
     "name": "stdout",
     "output_type": "stream",
     "text": [
      "model parameters: [0.8001353, 2.2977762]\n",
      "calibrator model parameters: [0.7991353, 2.2477762]\n",
      "model parameters difference: [0.0010000000000000009, 0.04999999999999982]\n",
      "\n",
      "samping point: [2.4646128029146057, 0.92945520328508757]\n",
      "sampling value: 1.38777878078e-16\n",
      "current observe: 0.000402022655257\n"
     ]
    }
   ],
   "source": [
    "print_model_status(calib, model)"
   ]
  },
  {
   "cell_type": "markdown",
   "metadata": {},
   "source": [
    "# Simulation"
   ]
  }
 ],
 "metadata": {
  "kernelspec": {
   "display_name": "Python 2",
   "language": "python",
   "name": "python2"
  },
  "language_info": {
   "codemirror_mode": {
    "name": "ipython",
    "version": 2
   },
   "file_extension": ".py",
   "mimetype": "text/x-python",
   "name": "python",
   "nbconvert_exporter": "python",
   "pygments_lexer": "ipython2",
   "version": "2.7.16"
  }
 },
 "nbformat": 4,
 "nbformat_minor": 1
}
