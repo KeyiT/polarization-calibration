{
 "cells": [
  {
   "cell_type": "code",
   "execution_count": 1,
   "metadata": {},
   "outputs": [],
   "source": [
    "import calibrators\n",
    "import simulators\n",
    "import logging\n",
    "import numpy as np"
   ]
  },
  {
   "cell_type": "code",
   "execution_count": 2,
   "metadata": {},
   "outputs": [],
   "source": [
    "logging.basicConfig(filename='data/app.log', filemode='w', format='%(name)s - %(levelname)s - %(message)s', level=logging.DEBUG)"
   ]
  },
  {
   "cell_type": "code",
   "execution_count": 3,
   "metadata": {},
   "outputs": [],
   "source": [
    "def print_model_status(calibrator, model):\n",
    "    print('model parameters: ' + str(model.params))\n",
    "    print('calibrator model parameters: ' + str(calibrator.model_params))\n",
    "    print('model parameters difference: ' + str((np.asarray(model.params) - np.asarray(calibrator.model_params)).tolist()))\n",
    "    print('\\nsamping point: ' + str(calibrator.sample_queue[-1].inputs))\n",
    "    print('sampling value: ' + str(calibrator.sample_queue[-1].output))\n",
    "    print('current observe: ' + str(model.observe(calibrator.sample_queue[-1].inputs)))"
   ]
  },
  {
   "cell_type": "markdown",
   "metadata": {},
   "source": [
    "# Initialize Model and Calibrator"
   ]
  },
  {
   "cell_type": "markdown",
   "metadata": {},
   "source": [
    "### Initial Model Parameters"
   ]
  },
  {
   "cell_type": "code",
   "execution_count": 19,
   "metadata": {},
   "outputs": [],
   "source": [
    "model_params = [0.7991353, 2.2477762]"
   ]
  },
  {
   "cell_type": "markdown",
   "metadata": {},
   "source": [
    "### Initialize"
   ]
  },
  {
   "cell_type": "code",
   "execution_count": 20,
   "metadata": {
    "scrolled": true
   },
   "outputs": [
    {
     "name": "stdout",
     "output_type": "stream",
     "text": [
      "initializing...\n",
      "initialization done!\n",
      "`xtol` termination condition is satisfied.\n",
      "Function evaluations 18, initial cost 5.6624e-01, final cost 3.1834e-18, first-order optimality 3.81e-09.\n",
      "Optimization terminated successfully.\n",
      "         Current function value: 0.000000\n",
      "         Iterations: 7\n",
      "         Function evaluations: 10\n",
      "         Gradient evaluations: 16\n",
      "         Hessian evaluations: 7\n"
     ]
    }
   ],
   "source": [
    "model = simulators.SimulatorModel(list(model_params))\n",
    "calib = calibrators.SlidingWindownCalibrator(model, num_resamples=1, num_samples=12)\n",
    "calib.initialize()"
   ]
  },
  {
   "cell_type": "code",
   "execution_count": 21,
   "metadata": {},
   "outputs": [
    {
     "name": "stdout",
     "output_type": "stream",
     "text": [
      "model parameters: [0.7991353, 2.2477762]\n",
      "calibrator model parameters: [ 0.7991353  2.2477762]\n",
      "model parameters difference: [6.854667944367066e-10, -2.258059073056984e-09]\n",
      "\n",
      "samping point: [2.4646128029146057, 0.92945520328508757]\n",
      "sampling value: 1.38777878078e-16\n",
      "current observe: 1.38777878078e-16\n"
     ]
    }
   ],
   "source": [
    "print_model_status(calib, model)"
   ]
  },
  {
   "cell_type": "markdown",
   "metadata": {},
   "source": [
    "# Tracking"
   ]
  },
  {
   "cell_type": "markdown",
   "metadata": {},
   "source": [
    "### Add a Small Perturbation"
   ]
  },
  {
   "cell_type": "code",
   "execution_count": 22,
   "metadata": {},
   "outputs": [],
   "source": [
    "params_change = [0, 1E-1]"
   ]
  },
  {
   "cell_type": "code",
   "execution_count": 23,
   "metadata": {},
   "outputs": [],
   "source": [
    "for i in range(len(model.params)):\n",
    "    model.params[i] = model_params[i] + params_change[i]"
   ]
  },
  {
   "cell_type": "code",
   "execution_count": 24,
   "metadata": {},
   "outputs": [
    {
     "name": "stdout",
     "output_type": "stream",
     "text": [
      "model parameters: [0.7991353, 2.3477762]\n",
      "calibrator model parameters: [ 0.7991353  2.2477762]\n",
      "model parameters difference: [6.854667944367066e-10, 0.09999999774194102]\n",
      "\n",
      "samping point: [2.4646128029146057, 0.92945520328508757]\n",
      "sampling value: 1.38777878078e-16\n",
      "current observe: 0.0016038442196\n"
     ]
    }
   ],
   "source": [
    "print_model_status(calib, model)"
   ]
  },
  {
   "cell_type": "markdown",
   "metadata": {},
   "source": [
    "### Track"
   ]
  },
  {
   "cell_type": "code",
   "execution_count": 25,
   "metadata": {},
   "outputs": [
    {
     "name": "stdout",
     "output_type": "stream",
     "text": [
      "tracking...\n",
      "`xtol` termination condition is satisfied.\n",
      "Function evaluations 15, initial cost 2.5668e+24, final cost 1.1402e-05, first-order optimality 6.60e+11.\n",
      "searching minimum...\n",
      "Optimization terminated successfully.\n",
      "         Current function value: 0.000000\n",
      "         Iterations: 4\n",
      "         Function evaluations: 5\n",
      "         Gradient evaluations: 8\n",
      "         Hessian evaluations: 4\n"
     ]
    }
   ],
   "source": [
    "calib.track()"
   ]
  },
  {
   "cell_type": "code",
   "execution_count": 26,
   "metadata": {},
   "outputs": [
    {
     "name": "stdout",
     "output_type": "stream",
     "text": [
      "model parameters: [0.7991353, 2.3477762]\n",
      "calibrator model parameters: [0.8213522888945266, 2.3200935703695227]\n",
      "model parameters difference: [-0.022216988894526613, 0.027682629630477518]\n",
      "\n",
      "samping point: [2.3922953920278793, 0.87277301858328482]\n",
      "sampling value: 0.000920604179198\n",
      "current observe: 0.000920604179198\n"
     ]
    }
   ],
   "source": [
    "print_model_status(calib, model)"
   ]
  },
  {
   "cell_type": "code",
   "execution_count": null,
   "metadata": {},
   "outputs": [],
   "source": []
  }
 ],
 "metadata": {
  "kernelspec": {
   "display_name": "Python 2",
   "language": "python",
   "name": "python2"
  },
  "language_info": {
   "codemirror_mode": {
    "name": "ipython",
    "version": 2
   },
   "file_extension": ".py",
   "mimetype": "text/x-python",
   "name": "python",
   "nbconvert_exporter": "python",
   "pygments_lexer": "ipython2",
   "version": "2.7.16"
  }
 },
 "nbformat": 4,
 "nbformat_minor": 1
}
