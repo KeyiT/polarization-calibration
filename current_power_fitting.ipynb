{
 "cells": [
  {
   "cell_type": "code",
   "execution_count": 54,
   "metadata": {},
   "outputs": [],
   "source": [
    "from scipy.io import loadmat\n",
    "import os\n",
    "import numpy as np\n",
    "from sklearn import model_selection\n",
    "from scipy.optimize import curve_fit\n",
    "from sklearn import metrics\n",
    "import matplotlib.pyplot as plt"
   ]
  },
  {
   "cell_type": "markdown",
   "metadata": {},
   "source": [
    "# Load Data"
   ]
  },
  {
   "cell_type": "code",
   "execution_count": 2,
   "metadata": {},
   "outputs": [],
   "source": [
    "DATA_FOLER = 'data'"
   ]
  },
  {
   "cell_type": "code",
   "execution_count": 59,
   "metadata": {},
   "outputs": [],
   "source": [
    "x_json = loadmat(os.path.join(DATA_FOLER, 'example_calibrationfile.mat'))"
   ]
  },
  {
   "cell_type": "code",
   "execution_count": 60,
   "metadata": {},
   "outputs": [
    {
     "name": "stdout",
     "output_type": "stream",
     "text": [
      "{'__header__': b'MATLAB 5.0 MAT-file, Platform: MACI64, Created on: Sat Mar  2 18:19:50 2019', '__version__': '1.0', '__globals__': [], 'I': array([[0.00099521, 0.00105729, 0.00112088, 0.00118454, 0.00124667,\n",
      "        0.00130868, 0.00137242, 0.00143448, 0.00149659, 0.00156032,\n",
      "        0.00162269, 0.00168476, 0.00174835, 0.00181034, 0.00187393,\n",
      "        0.00193596, 0.00199956, 0.00206164, 0.00212377, 0.00218745,\n",
      "        0.00224938, 0.0023115 , 0.00237345, 0.00243707, 0.00249894,\n",
      "        0.00256253, 0.00262623, 0.00268835, 0.00275023, 0.00281396,\n",
      "        0.00287595, 0.002938  , 0.00300171, 0.00306379, 0.00312593,\n",
      "        0.00318798, 0.00325158, 0.00331557, 0.00337756, 0.00344112,\n",
      "        0.00350323, 0.0035653 , 0.00362892, 0.0036909 , 0.0037529 ,\n",
      "        0.00381501, 0.00387859, 0.00394075, 0.00400285, 0.00406805,\n",
      "        0.00412996, 0.00419183, 0.00425558, 0.00431764, 0.00437968,\n",
      "        0.00444323, 0.00450515, 0.00456718, 0.00462918, 0.00469295,\n",
      "        0.00475646, 0.00481846, 0.00488212, 0.00494422, 0.00500622,\n",
      "        0.00507003, 0.00513204, 0.00519398, 0.00525601, 0.00531975,\n",
      "        0.00538182, 0.00544378, 0.00550897, 0.005571  , 0.00563306,\n",
      "        0.00569676, 0.00575866, 0.00582067, 0.0058827 , 0.00594627,\n",
      "        0.00600842, 0.00607044, 0.0061341 , 0.00619613, 0.00625986,\n",
      "        0.00632342, 0.00638542, 0.00644743, 0.00650952, 0.00657324,\n",
      "        0.00663545, 0.00669761, 0.00676137, 0.00682344, 0.0068855 ,\n",
      "        0.00695078, 0.00701283, 0.00707493, 0.00713691, 0.00720056,\n",
      "        0.00726258, 0.00732455, 0.00738819, 0.00745004, 0.007512  ,\n",
      "        0.00757563, 0.00763764, 0.007701  , 0.00776298, 0.00782661,\n",
      "        0.00788866, 0.00795077, 0.00801271, 0.00807641, 0.00813856,\n",
      "        0.0082006 , 0.00826424, 0.00832657, 0.00838867, 0.00845379,\n",
      "        0.00851575, 0.00857781, 0.00864142, 0.00870338, 0.00876559,\n",
      "        0.00882916, 0.00889126, 0.00895342, 0.00901713, 0.00907905,\n",
      "        0.00914259, 0.00920459, 0.00926828, 0.00933039, 0.00939244,\n",
      "        0.00945615, 0.00951817, 0.00958024, 0.00964385, 0.00970591,\n",
      "        0.00976803, 0.00982989, 0.00989524, 0.00995719, 0.0100195 ,\n",
      "        0.0100832 , 0.0101452 , 0.0102073 , 0.010271  , 0.010333  ,\n",
      "        0.0103951 , 0.0104571 , 0.0105207 , 0.0105829 , 0.0106466 ,\n",
      "        0.0107101 , 0.010772  , 0.010834  , 0.0108976 , 0.0109597 ,\n",
      "        0.0110216 , 0.0110852 , 0.0111472 , 0.0112093 , 0.011273  ,\n",
      "        0.0113367 , 0.0113987 , 0.0114609 , 0.0115244 , 0.0115866 ,\n",
      "        0.0116486 , 0.0117122 , 0.0117742 , 0.0118362 , 0.0118984 ,\n",
      "        0.0119619 , 0.012024  , 0.0120876 , 0.0121514 , 0.0122131 ,\n",
      "        0.0122753 , 0.0123389 , 0.0124009 , 0.0124629 , 0.0125264 ,\n",
      "        0.0125885 , 0.0126504 , 0.0127125 , 0.0127778 , 0.0128398 ,\n",
      "        0.0129018 , 0.0129653 , 0.0130274 , 0.0130894 , 0.0131516 ,\n",
      "        0.0132151 , 0.0132771 , 0.0133393 , 0.0134029 , 0.0134648 ,\n",
      "        0.0135285 , 0.0135923 , 0.0136543 , 0.0137162 , 0.0137783 ,\n",
      "        0.0138419 , 0.013904  , 0.0139659 , 0.0140297 , 0.0140918 ,\n",
      "        0.0141536 , 0.0142156 , 0.0142809 , 0.014343  , 0.014405  ,\n",
      "        0.0144687 , 0.0145307 , 0.0145929 , 0.0146565 , 0.0147186 ,\n",
      "        0.0147807 , 0.0148426 , 0.0149062 , 0.0149699 , 0.0150323 ,\n",
      "        0.015096  , 0.0151582 , 0.0152204 , 0.0152839 , 0.0153459 ,\n",
      "        0.0154079 , 0.0154717 , 0.0155336 , 0.0155957 , 0.0156577 ,\n",
      "        0.015723  , 0.0157851 , 0.015847  , 0.015909  , 0.0159727 ,\n",
      "        0.0160347 , 0.0160984 , 0.0161602 , 0.0162225 , 0.0162845 ,\n",
      "        0.0163481 , 0.0164101 , 0.0164738 , 0.0165357 , 0.0165993 ,\n",
      "        0.0166616 , 0.0167253 , 0.0167872 , 0.0168492 , 0.0169113 ,\n",
      "        0.0169749 , 0.0170369 , 0.0170991 , 0.0171645 , 0.0172265 ,\n",
      "        0.0172883 , 0.0173504 , 0.017414  , 0.0174761 , 0.017538  ,\n",
      "        0.0176016 , 0.0176636 , 0.0177257 , 0.0177894 , 0.0178513 ,\n",
      "        0.017915  , 0.0179787 , 0.0180406 , 0.0181027 , 0.0181648 ,\n",
      "        0.0182283 , 0.0182903 , 0.0183523 , 0.018416  , 0.0184779 ,\n",
      "        0.01854   , 0.0186019 , 0.0186672 , 0.0187291 , 0.0187912 ,\n",
      "        0.0188546 , 0.0189168 , 0.0189789 , 0.0190427 , 0.0191046 ,\n",
      "        0.0191667 , 0.0192286 , 0.0192922 , 0.0193558 , 0.0194178 ,\n",
      "        0.0194815 , 0.0195436 , 0.0196056 , 0.0196693 , 0.0197313 ,\n",
      "        0.0197933 , 0.019857  , 0.0199191 , 0.0199812 , 0.0200434 ,\n",
      "        0.0201087 , 0.0201708 , 0.0202329 , 0.0202966 , 0.0203585 ,\n",
      "        0.0204205 , 0.0204824 , 0.020546  , 0.0206081 , 0.0206702 ,\n",
      "        0.0207321 , 0.0207974 , 0.0208595 , 0.0209215 , 0.0209851 ,\n",
      "        0.0210471 , 0.0211092 , 0.0211728 , 0.0212349 , 0.0212968 ,\n",
      "        0.0213606 , 0.0214228 , 0.0214846 , 0.0215498 , 0.021612  ,\n",
      "        0.0216744 , 0.021738  , 0.0218001 , 0.0218621 , 0.0219242 ,\n",
      "        0.0219879 , 0.0220499 , 0.022112  , 0.0221756 , 0.0222375 ,\n",
      "        0.0223012 , 0.0223649 , 0.0224269 , 0.0224888 , 0.0225526 ,\n",
      "        0.0226145 , 0.0226766 , 0.0227387 , 0.0228022 , 0.0228643 ,\n",
      "        0.0229261 , 0.0229916 , 0.0230537 , 0.0231158 ]]), 'TopmW': array([[0.02252126, 0.02257551, 0.0225293 , 0.02257801, 0.02247495,\n",
      "        0.02231951, 0.02221185, 0.02207815, 0.02188002, 0.02195284,\n",
      "        0.02199752, 0.02193379, 0.02199797, 0.02177317, 0.0217985 ,\n",
      "        0.02170859, 0.0215905 , 0.02150016, 0.02165991, 0.02156114,\n",
      "        0.02148803, 0.02154372, 0.02172639, 0.021633  , 0.0219401 ,\n",
      "        0.02197529, 0.02203772, 0.02200805, 0.02226884, 0.02233992,\n",
      "        0.02259002, 0.02287503, 0.02316203, 0.0234922 , 0.0237022 ,\n",
      "        0.02422979, 0.02449529, 0.02511913, 0.02560134, 0.02590715,\n",
      "        0.02638169, 0.02696265, 0.02760131, 0.02820594, 0.02923329,\n",
      "        0.02985992, 0.03068956, 0.0316218 , 0.03289173, 0.03377277,\n",
      "        0.03484357, 0.03589175, 0.03697461, 0.0383089 , 0.03951542,\n",
      "        0.04094536, 0.04264525, 0.04452302, 0.04606453, 0.04757904,\n",
      "        0.04954726, 0.05138314, 0.05381281, 0.05578798, 0.05850684,\n",
      "        0.06091646, 0.06342181, 0.06568567, 0.06840245, 0.07143066,\n",
      "        0.07471446, 0.07802731, 0.08161719, 0.08480719, 0.08855043,\n",
      "        0.0921802 , 0.0962081 , 0.10082301, 0.10482784, 0.1089476 ,\n",
      "        0.11339102, 0.11800153, 0.12306389, 0.12772904, 0.13314279,\n",
      "        0.139088  , 0.1435247 , 0.14965515, 0.155353  , 0.16118278,\n",
      "        0.16736115, 0.17352604, 0.17986748, 0.18672895, 0.19230769,\n",
      "        0.19983504, 0.20631588, 0.21363856, 0.22127363, 0.22785242,\n",
      "        0.23424302, 0.24218523, 0.24935992, 0.25709856, 0.26512926,\n",
      "        0.27365454, 0.28210037, 0.28990163, 0.29852359, 0.30745931,\n",
      "        0.31765204, 0.32528321, 0.33560595, 0.34625627, 0.35489645,\n",
      "        0.36304182, 0.3750841 , 0.38337841, 0.3936141 , 0.40812073,\n",
      "        0.4157791 , 0.42991604, 0.44141151, 0.45240318, 0.46319478,\n",
      "        0.47675434, 0.49177297, 0.50417888, 0.51551185, 0.52618644,\n",
      "        0.53662963, 0.5504307 , 0.56272169, 0.57598829, 0.58416113,\n",
      "        0.59662116, 0.60880422, 0.61861672, 0.63333961, 0.64682329,\n",
      "        0.65747865, 0.66602519, 0.67424487, 0.68058387, 0.69291929,\n",
      "        0.69653453, 0.70475254, 0.70472496, 0.71733769, 0.7275681 ,\n",
      "        0.72732355, 0.73826903, 0.74998168, 0.75096319, 0.76465521,\n",
      "        0.77035632, 0.7751284 , 0.77212329, 0.79120432, 0.79570787,\n",
      "        0.79732917, 0.80581185, 0.80156483, 0.81314061, 0.82870823,\n",
      "        0.82585471, 0.83475235, 0.84433473, 0.85185495, 0.8562245 ,\n",
      "        0.85691876, 0.85705492, 0.85919878, 0.85873201, 0.86365174,\n",
      "        0.86486167, 0.86175865, 0.86105056, 0.86170706, 0.86391826,\n",
      "        0.86166936, 0.86306927, 0.8616396 , 0.86246733, 0.85901877,\n",
      "        0.86253287, 0.861231  , 0.86452519, 0.87050977, 0.87031336,\n",
      "        0.87045566, 0.87088869, 0.87578732, 0.87692742, 0.87728288,\n",
      "        0.87761422, 0.87241003, 0.8662548 , 0.85606088, 0.85319765,\n",
      "        0.84103613, 0.83545421, 0.82271734, 0.80900024, 0.78932463,\n",
      "        0.77169139, 0.75391199, 0.73458093, 0.71905259, 0.69837977,\n",
      "        0.67836066, 0.66031118, 0.64214285, 0.62244023, 0.60267011,\n",
      "        0.58699939, 0.56547662, 0.54590322, 0.52918028, 0.51576831,\n",
      "        0.49861651, 0.48693798, 0.46928066, 0.4505455 , 0.4335854 ,\n",
      "        0.41712445, 0.39880597, 0.38026088, 0.35850371, 0.33857871,\n",
      "        0.3166822 , 0.29333417, 0.26974329, 0.24787838, 0.22752004,\n",
      "        0.20658018, 0.18798736, 0.17148007, 0.1571595 , 0.14565911,\n",
      "        0.1307238 , 0.11993105, 0.11124171, 0.10221571, 0.09208134,\n",
      "        0.08392834, 0.0750201 , 0.06560314, 0.05765575, 0.04958481,\n",
      "        0.0426928 , 0.03680855, 0.03179286, 0.02787852, 0.02513568,\n",
      "        0.02332033, 0.02224773, 0.02191662, 0.02197651, 0.02257021,\n",
      "        0.02396253, 0.02649352, 0.03042669, 0.03531642, 0.04255893,\n",
      "        0.05166443, 0.06274724, 0.07713752, 0.09332342, 0.11084897,\n",
      "        0.1302041 , 0.14873208, 0.16740933, 0.18350532, 0.20076669,\n",
      "        0.21508724, 0.23010108, 0.24529441, 0.26726165, 0.29175725,\n",
      "        0.32133324, 0.34893027, 0.3830678 , 0.41472351, 0.44329379,\n",
      "        0.47814834, 0.50858278, 0.53215194, 0.55551227, 0.58076395,\n",
      "        0.59800615, 0.60877478, 0.64403527, 0.65671003, 0.7007654 ,\n",
      "        0.71806813, 0.74691409, 0.7717056 , 0.81093987, 0.82073632,\n",
      "        0.83898202, 0.85221986, 0.86459487, 0.84658711, 0.85068084,\n",
      "        0.84882009, 0.84846836, 0.85287553, 0.8606343 , 0.8711073 ,\n",
      "        0.87735964, 0.89237553, 0.8880014 , 0.88951577, 0.88289418,\n",
      "        0.87354172, 0.87683858, 0.86335747, 0.84665729, 0.84004906,\n",
      "        0.80670296, 0.79425261, 0.77344717, 0.75217631, 0.72609367,\n",
      "        0.70228057, 0.67426195, 0.64160339, 0.60042346, 0.56188916,\n",
      "        0.51555102, 0.47350291, 0.42896776, 0.39304715, 0.35636796,\n",
      "        0.33005754, 0.29987734, 0.27558822, 0.25141816, 0.22676846,\n",
      "        0.20044889, 0.17121849, 0.14688947, 0.11988909, 0.09763593,\n",
      "        0.0780922 , 0.06280087, 0.05243493, 0.04149059, 0.03550689,\n",
      "        0.02994489, 0.02531621, 0.02279668, 0.0225618 ]]), 'p': array([[7.68804088e-05, 4.94224911e-02, 4.24419886e-02, 1.96936684e+02]])}\n"
     ]
    }
   ],
   "source": [
    "print(x_json)"
   ]
  },
  {
   "cell_type": "code",
   "execution_count": 61,
   "metadata": {},
   "outputs": [],
   "source": [
    "current = x_json['I']\n",
    "topmw = x_json['TopmW']"
   ]
  },
  {
   "cell_type": "code",
   "execution_count": 62,
   "metadata": {},
   "outputs": [
    {
     "name": "stdout",
     "output_type": "stream",
     "text": [
      "(1, 354)\n",
      "(1, 354)\n"
     ]
    }
   ],
   "source": [
    "print(current.shape)\n",
    "print(topmw.shape)"
   ]
  },
  {
   "cell_type": "code",
   "execution_count": 63,
   "metadata": {},
   "outputs": [],
   "source": [
    "current = np.squeeze(current)\n",
    "topmw = np.squeeze(topmw)"
   ]
  },
  {
   "cell_type": "code",
   "execution_count": 64,
   "metadata": {},
   "outputs": [
    {
     "name": "stdout",
     "output_type": "stream",
     "text": [
      "(354,)\n",
      "(354,)\n"
     ]
    }
   ],
   "source": [
    "print(current.shape)\n",
    "print(topmw.shape)"
   ]
  },
  {
   "cell_type": "markdown",
   "metadata": {},
   "source": [
    "# Curve Fitting"
   ]
  },
  {
   "cell_type": "markdown",
   "metadata": {},
   "source": [
    "## Split Training and Testing Data"
   ]
  },
  {
   "cell_type": "code",
   "execution_count": 65,
   "metadata": {},
   "outputs": [],
   "source": [
    "x_train, x_test, y_train, y_test = model_selection.train_test_split(current, topmw, test_size=0.25, random_state=3)"
   ]
  },
  {
   "cell_type": "code",
   "execution_count": 138,
   "metadata": {},
   "outputs": [],
   "source": [
    "yy_train = np.arccos(y_train * 2 - 1) \n",
    "yy_test = np.arccos(y_test * 2 - 1)"
   ]
  },
  {
   "cell_type": "markdown",
   "metadata": {},
   "source": [
    "## Training "
   ]
  },
  {
   "cell_type": "markdown",
   "metadata": {},
   "source": [
    "#### Current to Power"
   ]
  },
  {
   "cell_type": "code",
   "execution_count": 213,
   "metadata": {},
   "outputs": [],
   "source": [
    "def polynomial5(x, a, b, c, d):\n",
    "    p = a * x**5 + b * x ** 4 + c * x**3 + d * x**2\n",
    "    return p\n",
    "\n",
    "def polynomial3(x, c, d):\n",
    "    p = d * x**3 + c * x**2\n",
    "    return p"
   ]
  },
  {
   "cell_type": "markdown",
   "metadata": {},
   "source": [
    "#### Make Sure Power Value is Between 0 and Pi"
   ]
  },
  {
   "cell_type": "code",
   "execution_count": 214,
   "metadata": {},
   "outputs": [],
   "source": [
    "def num_to_pi(num):\n",
    "    \n",
    "    if num > np.pi * 2:\n",
    "        num = num % (np.pi * 2)\n",
    "    \n",
    "    if num < 0:\n",
    "        num = np.ceil(np.abs(num) // (np.pi * 2)) * np.pi * 2 + num\n",
    "        \n",
    "    if num > np.pi:\n",
    "        num = 2 * np.pi - num\n",
    "        \n",
    "    return num\n",
    "\n",
    "vfunc_num_to_pi = np.vectorize(num_to_pi)"
   ]
  },
  {
   "cell_type": "markdown",
   "metadata": {},
   "source": [
    "#### Fitting Curve"
   ]
  },
  {
   "cell_type": "code",
   "execution_count": 216,
   "metadata": {},
   "outputs": [],
   "source": [
    "def func(x, c, d, alpha, beta):\n",
    "    p = polynomial3(x, c, d)\n",
    "    phi = alpha * p + beta\n",
    "    \n",
    "    phi = vfunc_num_to_pi(phi)\n",
    "\n",
    "    return phi"
   ]
  },
  {
   "cell_type": "code",
   "execution_count": 217,
   "metadata": {},
   "outputs": [],
   "source": [
    "popt, pcov = curve_fit(func, x_train, yy_train)"
   ]
  },
  {
   "cell_type": "markdown",
   "metadata": {},
   "source": [
    "### Parameter!"
   ]
  },
  {
   "cell_type": "code",
   "execution_count": 218,
   "metadata": {},
   "outputs": [
    {
     "data": {
      "text/plain": [
       "array([  47.81804129, 1512.16292669,  284.68352717,    3.28652786])"
      ]
     },
     "execution_count": 218,
     "metadata": {},
     "output_type": "execute_result"
    }
   ],
   "source": [
    "popt"
   ]
  },
  {
   "cell_type": "markdown",
   "metadata": {},
   "source": [
    "### Training r2"
   ]
  },
  {
   "cell_type": "code",
   "execution_count": 219,
   "metadata": {},
   "outputs": [
    {
     "data": {
      "text/plain": [
       "0.9278099815780669"
      ]
     },
     "execution_count": 219,
     "metadata": {},
     "output_type": "execute_result"
    }
   ],
   "source": [
    "metrics.r2_score(yy_train,  func(x_train, *popt))"
   ]
  },
  {
   "cell_type": "markdown",
   "metadata": {},
   "source": [
    "### Plot Training Data with Fitted Curve"
   ]
  },
  {
   "cell_type": "code",
   "execution_count": 221,
   "metadata": {},
   "outputs": [
    {
     "data": {
      "image/png": "[encoded data removed]",
      "text/plain": [
       "<Figure size 432x288 with 1 Axes>"
      ]
     },
     "metadata": {
      "needs_background": "light"
     },
     "output_type": "display_data"
    }
   ],
   "source": [
    "sort_indices = np.argsort(x_train)\n",
    "\n",
    "plt.plot(x_train[sort_indices], yy_train[sort_indices], 'b-', label='data')\n",
    "plt.plot(x_train[sort_indices], func(x_train[sort_indices], *popt), 'g--')\n",
    "plt.xlabel('x')\n",
    "plt.ylabel('y')\n",
    "plt.legend()\n",
    "plt.show()"
   ]
  },
  {
   "cell_type": "markdown",
   "metadata": {},
   "source": [
    "## Testing"
   ]
  },
  {
   "cell_type": "code",
   "execution_count": 222,
   "metadata": {},
   "outputs": [],
   "source": [
    "yy_pred = func(x_test, *popt)"
   ]
  },
  {
   "cell_type": "markdown",
   "metadata": {},
   "source": [
    "### Testing R2"
   ]
  },
  {
   "cell_type": "code",
   "execution_count": 223,
   "metadata": {},
   "outputs": [
    {
     "data": {
      "text/plain": [
       "0.9101932116964406"
      ]
     },
     "execution_count": 223,
     "metadata": {},
     "output_type": "execute_result"
    }
   ],
   "source": [
    "metrics.r2_score(yy_test, yy_pred)"
   ]
  },
  {
   "cell_type": "markdown",
   "metadata": {},
   "source": [
    "### Plot Test Data with Fitted Curve"
   ]
  },
  {
   "cell_type": "code",
   "execution_count": 224,
   "metadata": {},
   "outputs": [
    {
     "data": {
      "image/png": "[encoded data removed]",
      "text/plain": [
       "<Figure size 432x288 with 1 Axes>"
      ]
     },
     "metadata": {
      "needs_background": "light"
     },
     "output_type": "display_data"
    }
   ],
   "source": [
    "sort_indices = np.argsort(x_test)\n",
    "\n",
    "plt.plot(x_test[sort_indices], yy_test[sort_indices], 'b-', label='data')\n",
    "plt.plot(x_test[sort_indices], func(x_test[sort_indices], *popt), 'g--')\n",
    "plt.xlabel('x')\n",
    "plt.ylabel('y')\n",
    "plt.legend()\n",
    "plt.show()"
   ]
  }
 ],
 "metadata": {
  "kernelspec": {
   "display_name": "Python 3",
   "language": "python",
   "name": "python3"
  },
  "language_info": {
   "codemirror_mode": {
    "name": "ipython",
    "version": 3
   },
   "file_extension": ".py",
   "mimetype": "text/x-python",
   "name": "python",
   "nbconvert_exporter": "python",
   "pygments_lexer": "ipython3",
   "version": "3.6.0"
  }
 },
 "nbformat": 4,
 "nbformat_minor": 1
}
